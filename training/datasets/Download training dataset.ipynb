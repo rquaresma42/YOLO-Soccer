{
 "cells": [
  {
   "cell_type": "markdown",
   "id": "cc0add25-c635-4014-a5e2-9b6fdf019a1a",
   "metadata": {},
   "source": [
    "## Get Data"
   ]
  },
  {
   "cell_type": "code",
   "execution_count": 3,
   "id": "58861d0d-d087-4c8c-8efb-9dd6982dee34",
   "metadata": {},
   "outputs": [
    {
     "name": "stdout",
     "output_type": "stream",
     "text": [
      "Collecting ultralytics==8.0.196\n",
      "  Using cached ultralytics-8.0.196-py3-none-any.whl.metadata (31 kB)\n",
      "Requirement already satisfied: matplotlib>=3.3.0 in /home/aquinate/anaconda3/envs/youtube-downloader/lib/python3.12/site-packages (from ultralytics==8.0.196) (3.9.2)\n",
      "Requirement already satisfied: numpy>=1.22.2 in /home/aquinate/anaconda3/envs/youtube-downloader/lib/python3.12/site-packages (from ultralytics==8.0.196) (1.26.4)\n",
      "Requirement already satisfied: opencv-python>=4.6.0 in /home/aquinate/anaconda3/envs/youtube-downloader/lib/python3.12/site-packages (from ultralytics==8.0.196) (4.10.0.84)\n",
      "Requirement already satisfied: pillow>=7.1.2 in /home/aquinate/anaconda3/envs/youtube-downloader/lib/python3.12/site-packages (from ultralytics==8.0.196) (10.4.0)\n",
      "Requirement already satisfied: pyyaml>=5.3.1 in /home/aquinate/anaconda3/envs/youtube-downloader/lib/python3.12/site-packages (from ultralytics==8.0.196) (6.0.1)\n",
      "Requirement already satisfied: requests>=2.23.0 in /home/aquinate/anaconda3/envs/youtube-downloader/lib/python3.12/site-packages (from ultralytics==8.0.196) (2.32.3)\n",
      "Requirement already satisfied: scipy>=1.4.1 in /home/aquinate/anaconda3/envs/youtube-downloader/lib/python3.12/site-packages (from ultralytics==8.0.196) (1.14.1)\n",
      "Requirement already satisfied: torch>=1.8.0 in /home/aquinate/anaconda3/envs/youtube-downloader/lib/python3.12/site-packages (from ultralytics==8.0.196) (2.4.0)\n",
      "Requirement already satisfied: torchvision>=0.9.0 in /home/aquinate/anaconda3/envs/youtube-downloader/lib/python3.12/site-packages (from ultralytics==8.0.196) (0.19.0)\n",
      "Requirement already satisfied: tqdm>=4.64.0 in /home/aquinate/anaconda3/envs/youtube-downloader/lib/python3.12/site-packages (from ultralytics==8.0.196) (4.66.5)\n",
      "Requirement already satisfied: pandas>=1.1.4 in /home/aquinate/anaconda3/envs/youtube-downloader/lib/python3.12/site-packages (from ultralytics==8.0.196) (2.2.2)\n",
      "Requirement already satisfied: seaborn>=0.11.0 in /home/aquinate/anaconda3/envs/youtube-downloader/lib/python3.12/site-packages (from ultralytics==8.0.196) (0.13.2)\n",
      "Requirement already satisfied: psutil in /home/aquinate/anaconda3/envs/youtube-downloader/lib/python3.12/site-packages (from ultralytics==8.0.196) (5.9.0)\n",
      "Requirement already satisfied: py-cpuinfo in /home/aquinate/anaconda3/envs/youtube-downloader/lib/python3.12/site-packages (from ultralytics==8.0.196) (9.0.0)\n",
      "Requirement already satisfied: thop>=0.1.1 in /home/aquinate/anaconda3/envs/youtube-downloader/lib/python3.12/site-packages (from ultralytics==8.0.196) (0.1.1.post2209072238)\n",
      "Requirement already satisfied: contourpy>=1.0.1 in /home/aquinate/anaconda3/envs/youtube-downloader/lib/python3.12/site-packages (from matplotlib>=3.3.0->ultralytics==8.0.196) (1.3.0)\n",
      "Requirement already satisfied: cycler>=0.10 in /home/aquinate/anaconda3/envs/youtube-downloader/lib/python3.12/site-packages (from matplotlib>=3.3.0->ultralytics==8.0.196) (0.12.1)\n",
      "Requirement already satisfied: fonttools>=4.22.0 in /home/aquinate/anaconda3/envs/youtube-downloader/lib/python3.12/site-packages (from matplotlib>=3.3.0->ultralytics==8.0.196) (4.53.1)\n",
      "Requirement already satisfied: kiwisolver>=1.3.1 in /home/aquinate/anaconda3/envs/youtube-downloader/lib/python3.12/site-packages (from matplotlib>=3.3.0->ultralytics==8.0.196) (1.4.6)\n",
      "Requirement already satisfied: packaging>=20.0 in /home/aquinate/anaconda3/envs/youtube-downloader/lib/python3.12/site-packages (from matplotlib>=3.3.0->ultralytics==8.0.196) (24.1)\n",
      "Requirement already satisfied: pyparsing>=2.3.1 in /home/aquinate/anaconda3/envs/youtube-downloader/lib/python3.12/site-packages (from matplotlib>=3.3.0->ultralytics==8.0.196) (3.1.4)\n",
      "Requirement already satisfied: python-dateutil>=2.7 in /home/aquinate/anaconda3/envs/youtube-downloader/lib/python3.12/site-packages (from matplotlib>=3.3.0->ultralytics==8.0.196) (2.9.0.post0)\n",
      "Requirement already satisfied: pytz>=2020.1 in /home/aquinate/anaconda3/envs/youtube-downloader/lib/python3.12/site-packages (from pandas>=1.1.4->ultralytics==8.0.196) (2024.1)\n",
      "Requirement already satisfied: tzdata>=2022.7 in /home/aquinate/anaconda3/envs/youtube-downloader/lib/python3.12/site-packages (from pandas>=1.1.4->ultralytics==8.0.196) (2024.1)\n",
      "Requirement already satisfied: charset-normalizer<4,>=2 in /home/aquinate/anaconda3/envs/youtube-downloader/lib/python3.12/site-packages (from requests>=2.23.0->ultralytics==8.0.196) (3.3.2)\n",
      "Requirement already satisfied: idna<4,>=2.5 in /home/aquinate/anaconda3/envs/youtube-downloader/lib/python3.12/site-packages (from requests>=2.23.0->ultralytics==8.0.196) (3.7)\n",
      "Requirement already satisfied: urllib3<3,>=1.21.1 in /home/aquinate/anaconda3/envs/youtube-downloader/lib/python3.12/site-packages (from requests>=2.23.0->ultralytics==8.0.196) (2.2.2)\n",
      "Requirement already satisfied: certifi>=2017.4.17 in /home/aquinate/anaconda3/envs/youtube-downloader/lib/python3.12/site-packages (from requests>=2.23.0->ultralytics==8.0.196) (2024.7.4)\n",
      "Requirement already satisfied: filelock in /home/aquinate/anaconda3/envs/youtube-downloader/lib/python3.12/site-packages (from torch>=1.8.0->ultralytics==8.0.196) (3.15.4)\n",
      "Requirement already satisfied: typing-extensions>=4.8.0 in /home/aquinate/anaconda3/envs/youtube-downloader/lib/python3.12/site-packages (from torch>=1.8.0->ultralytics==8.0.196) (4.11.0)\n",
      "Requirement already satisfied: sympy in /home/aquinate/anaconda3/envs/youtube-downloader/lib/python3.12/site-packages (from torch>=1.8.0->ultralytics==8.0.196) (1.13.2)\n",
      "Requirement already satisfied: networkx in /home/aquinate/anaconda3/envs/youtube-downloader/lib/python3.12/site-packages (from torch>=1.8.0->ultralytics==8.0.196) (3.3)\n",
      "Requirement already satisfied: jinja2 in /home/aquinate/anaconda3/envs/youtube-downloader/lib/python3.12/site-packages (from torch>=1.8.0->ultralytics==8.0.196) (3.1.4)\n",
      "Requirement already satisfied: fsspec in /home/aquinate/anaconda3/envs/youtube-downloader/lib/python3.12/site-packages (from torch>=1.8.0->ultralytics==8.0.196) (2024.6.1)\n",
      "Requirement already satisfied: setuptools in /home/aquinate/anaconda3/envs/youtube-downloader/lib/python3.12/site-packages (from torch>=1.8.0->ultralytics==8.0.196) (72.1.0)\n",
      "Requirement already satisfied: nvidia-cuda-nvrtc-cu12==12.1.105 in /home/aquinate/anaconda3/envs/youtube-downloader/lib/python3.12/site-packages (from torch>=1.8.0->ultralytics==8.0.196) (12.1.105)\n",
      "Requirement already satisfied: nvidia-cuda-runtime-cu12==12.1.105 in /home/aquinate/anaconda3/envs/youtube-downloader/lib/python3.12/site-packages (from torch>=1.8.0->ultralytics==8.0.196) (12.1.105)\n",
      "Requirement already satisfied: nvidia-cuda-cupti-cu12==12.1.105 in /home/aquinate/anaconda3/envs/youtube-downloader/lib/python3.12/site-packages (from torch>=1.8.0->ultralytics==8.0.196) (12.1.105)\n",
      "Requirement already satisfied: nvidia-cudnn-cu12==9.1.0.70 in /home/aquinate/anaconda3/envs/youtube-downloader/lib/python3.12/site-packages (from torch>=1.8.0->ultralytics==8.0.196) (9.1.0.70)\n",
      "Requirement already satisfied: nvidia-cublas-cu12==12.1.3.1 in /home/aquinate/anaconda3/envs/youtube-downloader/lib/python3.12/site-packages (from torch>=1.8.0->ultralytics==8.0.196) (12.1.3.1)\n",
      "Requirement already satisfied: nvidia-cufft-cu12==11.0.2.54 in /home/aquinate/anaconda3/envs/youtube-downloader/lib/python3.12/site-packages (from torch>=1.8.0->ultralytics==8.0.196) (11.0.2.54)\n",
      "Requirement already satisfied: nvidia-curand-cu12==10.3.2.106 in /home/aquinate/anaconda3/envs/youtube-downloader/lib/python3.12/site-packages (from torch>=1.8.0->ultralytics==8.0.196) (10.3.2.106)\n",
      "Requirement already satisfied: nvidia-cusolver-cu12==11.4.5.107 in /home/aquinate/anaconda3/envs/youtube-downloader/lib/python3.12/site-packages (from torch>=1.8.0->ultralytics==8.0.196) (11.4.5.107)\n",
      "Requirement already satisfied: nvidia-cusparse-cu12==12.1.0.106 in /home/aquinate/anaconda3/envs/youtube-downloader/lib/python3.12/site-packages (from torch>=1.8.0->ultralytics==8.0.196) (12.1.0.106)\n",
      "Requirement already satisfied: nvidia-nccl-cu12==2.20.5 in /home/aquinate/anaconda3/envs/youtube-downloader/lib/python3.12/site-packages (from torch>=1.8.0->ultralytics==8.0.196) (2.20.5)\n",
      "Requirement already satisfied: nvidia-nvtx-cu12==12.1.105 in /home/aquinate/anaconda3/envs/youtube-downloader/lib/python3.12/site-packages (from torch>=1.8.0->ultralytics==8.0.196) (12.1.105)\n",
      "Requirement already satisfied: triton==3.0.0 in /home/aquinate/anaconda3/envs/youtube-downloader/lib/python3.12/site-packages (from torch>=1.8.0->ultralytics==8.0.196) (3.0.0)\n",
      "Requirement already satisfied: nvidia-nvjitlink-cu12 in /home/aquinate/anaconda3/envs/youtube-downloader/lib/python3.12/site-packages (from nvidia-cusolver-cu12==11.4.5.107->torch>=1.8.0->ultralytics==8.0.196) (12.6.68)\n",
      "Requirement already satisfied: six>=1.5 in /home/aquinate/anaconda3/envs/youtube-downloader/lib/python3.12/site-packages (from python-dateutil>=2.7->matplotlib>=3.3.0->ultralytics==8.0.196) (1.16.0)\n",
      "Requirement already satisfied: MarkupSafe>=2.0 in /home/aquinate/anaconda3/envs/youtube-downloader/lib/python3.12/site-packages (from jinja2->torch>=1.8.0->ultralytics==8.0.196) (2.1.3)\n",
      "Requirement already satisfied: mpmath<1.4,>=1.1.0 in /home/aquinate/anaconda3/envs/youtube-downloader/lib/python3.12/site-packages (from sympy->torch>=1.8.0->ultralytics==8.0.196) (1.3.0)\n",
      "Using cached ultralytics-8.0.196-py3-none-any.whl (631 kB)\n",
      "Installing collected packages: ultralytics\n",
      "Successfully installed ultralytics-8.0.196\n",
      "Note: you may need to restart the kernel to use updated packages.\n"
     ]
    }
   ],
   "source": [
    "pip install ultralytics==8.0.196"
   ]
  },
  {
   "cell_type": "code",
   "execution_count": 4,
   "id": "c286c514-a509-4c0f-8886-a2d8de3a5223",
   "metadata": {},
   "outputs": [
    {
     "name": "stdout",
     "output_type": "stream",
     "text": [
      "loading Roboflow workspace...\n",
      "loading Roboflow project...\n"
     ]
    },
    {
     "name": "stderr",
     "output_type": "stream",
     "text": [
      "Downloading Dataset Version Zip in football-players-detection-1 to yolov8:: 100%|██████████| 148663/148663 [00:06<00:00, 22477.04it/s]"
     ]
    },
    {
     "name": "stdout",
     "output_type": "stream",
     "text": [
      "\n"
     ]
    },
    {
     "name": "stderr",
     "output_type": "stream",
     "text": [
      "\n",
      "Extracting Dataset Version Zip to football-players-detection-1 in yolov8:: 100%|██████████| 1338/1338 [00:00<00:00, 5511.40it/s]\n"
     ]
    }
   ],
   "source": [
    "from roboflow import Roboflow\n",
    "rf = Roboflow(api_key=\"Z4C8uDsWoaB3f6gOLtsk\")\n",
    "project = rf.workspace(\"roboflow-jvuqo\").project(\"football-players-detection-3zvbc\")\n",
    "version = project.version(1)\n",
    "dataset = version.download(\"yolov8\")"
   ]
  },
  {
   "cell_type": "code",
   "execution_count": 5,
   "id": "76233030-083d-42ee-bd64-b722d776d3a2",
   "metadata": {},
   "outputs": [
    {
     "data": {
      "text/plain": [
       "'/home/aquinate/Documents/DataScience/GremioPrudente/training/datasets/football-players-detection-1'"
      ]
     },
     "execution_count": 5,
     "metadata": {},
     "output_type": "execute_result"
    }
   ],
   "source": [
    "dataset.location"
   ]
  },
  {
   "cell_type": "markdown",
   "id": "5fa18d80-b870-4a9b-bfa8-d19170868ad5",
   "metadata": {},
   "source": [
    "## Train model"
   ]
  },
  {
   "cell_type": "code",
   "execution_count": null,
   "id": "46698221-d45a-428b-af55-1761403337f2",
   "metadata": {},
   "outputs": [
    {
     "name": "stdout",
     "output_type": "stream",
     "text": [
      "Downloading https://github.com/ultralytics/assets/releases/download/v0.0.0/yolov8x.pt to 'yolov8x.pt'...\n",
      "100%|████████████████████████████████████████| 131M/131M [00:01<00:00, 92.2MB/s]\n",
      "/home/aquinate/anaconda3/envs/youtube-downloader/lib/python3.12/site-packages/ultralytics/nn/tasks.py:567: FutureWarning: You are using `torch.load` with `weights_only=False` (the current default value), which uses the default pickle module implicitly. It is possible to construct malicious pickle data which will execute arbitrary code during unpickling (See https://github.com/pytorch/pytorch/blob/main/SECURITY.md#untrusted-models for more details). In a future release, the default value for `weights_only` will be flipped to `True`. This limits the functions that could be executed during unpickling. Arbitrary objects will no longer be allowed to be loaded via this mode unless they are explicitly allowlisted by the user via `torch.serialization.add_safe_globals`. We recommend you start setting `weights_only=True` for any use case where you don't have full control of the loaded file. Please open an issue on GitHub for any issues related to this experimental feature.\n",
      "  return torch.load(file, map_location='cpu'), file  # load\n",
      "New https://pypi.org/project/ultralytics/8.2.87 available 😃 Update with 'pip install -U ultralytics'\n",
      "Ultralytics YOLOv8.0.196 🚀 Python-3.12.4 torch-2.4.0+cu121 CPU (AMD Ryzen 5 5600G with Radeon Graphics)\n",
      "\u001b[34m\u001b[1mengine/trainer: \u001b[0mtask=detect, mode=train, model=yolov8x.pt, data=/home/aquinate/Documents/DataScience/GremioPrudente/training/datasets/football-players-detection-1/data.yaml, epochs=10, patience=50, batch=16, imgsz=640, save=True, save_period=-1, cache=False, device=None, workers=8, project=None, name=None, exist_ok=False, pretrained=True, optimizer=auto, verbose=True, seed=0, deterministic=True, single_cls=False, rect=False, cos_lr=False, close_mosaic=10, resume=False, amp=True, fraction=1.0, profile=False, freeze=None, overlap_mask=True, mask_ratio=4, dropout=0.0, val=True, split=val, save_json=False, save_hybrid=False, conf=None, iou=0.7, max_det=300, half=False, dnn=False, plots=True, source=None, show=False, save_txt=False, save_conf=False, save_crop=False, show_labels=True, show_conf=True, vid_stride=1, stream_buffer=False, line_width=None, visualize=False, augment=False, agnostic_nms=False, classes=None, retina_masks=False, boxes=True, format=torchscript, keras=False, optimize=False, int8=False, dynamic=False, simplify=False, opset=None, workspace=4, nms=False, lr0=0.01, lrf=0.01, momentum=0.937, weight_decay=0.0005, warmup_epochs=3.0, warmup_momentum=0.8, warmup_bias_lr=0.1, box=7.5, cls=0.5, dfl=1.5, pose=12.0, kobj=1.0, label_smoothing=0.0, nbs=64, hsv_h=0.015, hsv_s=0.7, hsv_v=0.4, degrees=0.0, translate=0.1, scale=0.5, shear=0.0, perspective=0.0, flipud=0.0, fliplr=0.5, mosaic=1.0, mixup=0.0, copy_paste=0.0, cfg=None, tracker=botsort.yaml, save_dir=runs/detect/train\n",
      "Overriding model.yaml nc=80 with nc=4\n",
      "\n",
      "                   from  n    params  module                                       arguments                     \n",
      "  0                  -1  1      2320  ultralytics.nn.modules.conv.Conv             [3, 80, 3, 2]                 \n",
      "  1                  -1  1    115520  ultralytics.nn.modules.conv.Conv             [80, 160, 3, 2]               \n",
      "  2                  -1  3    436800  ultralytics.nn.modules.block.C2f             [160, 160, 3, True]           \n",
      "  3                  -1  1    461440  ultralytics.nn.modules.conv.Conv             [160, 320, 3, 2]              \n",
      "  4                  -1  6   3281920  ultralytics.nn.modules.block.C2f             [320, 320, 6, True]           \n",
      "  5                  -1  1   1844480  ultralytics.nn.modules.conv.Conv             [320, 640, 3, 2]              \n",
      "  6                  -1  6  13117440  ultralytics.nn.modules.block.C2f             [640, 640, 6, True]           \n",
      "  7                  -1  1   3687680  ultralytics.nn.modules.conv.Conv             [640, 640, 3, 2]              \n",
      "  8                  -1  3   6969600  ultralytics.nn.modules.block.C2f             [640, 640, 3, True]           \n",
      "  9                  -1  1   1025920  ultralytics.nn.modules.block.SPPF            [640, 640, 5]                 \n",
      " 10                  -1  1         0  torch.nn.modules.upsampling.Upsample         [None, 2, 'nearest']          \n",
      " 11             [-1, 6]  1         0  ultralytics.nn.modules.conv.Concat           [1]                           \n",
      " 12                  -1  3   7379200  ultralytics.nn.modules.block.C2f             [1280, 640, 3]                \n",
      " 13                  -1  1         0  torch.nn.modules.upsampling.Upsample         [None, 2, 'nearest']          \n",
      " 14             [-1, 4]  1         0  ultralytics.nn.modules.conv.Concat           [1]                           \n",
      " 15                  -1  3   1948800  ultralytics.nn.modules.block.C2f             [960, 320, 3]                 \n",
      " 16                  -1  1    922240  ultralytics.nn.modules.conv.Conv             [320, 320, 3, 2]              \n",
      " 17            [-1, 12]  1         0  ultralytics.nn.modules.conv.Concat           [1]                           \n",
      " 18                  -1  3   7174400  ultralytics.nn.modules.block.C2f             [960, 640, 3]                 \n",
      " 19                  -1  1   3687680  ultralytics.nn.modules.conv.Conv             [640, 640, 3, 2]              \n",
      " 20             [-1, 9]  1         0  ultralytics.nn.modules.conv.Concat           [1]                           \n",
      " 21                  -1  3   7379200  ultralytics.nn.modules.block.C2f             [1280, 640, 3]                \n",
      " 22        [15, 18, 21]  1   8721820  ultralytics.nn.modules.head.Detect           [4, [320, 640, 640]]          \n",
      "Model summary: 365 layers, 68156460 parameters, 68156444 gradients, 258.1 GFLOPs\n",
      "\n",
      "Transferred 589/595 items from pretrained weights\n",
      "Freezing layer 'model.22.dfl.conv.weight'\n",
      "/home/aquinate/anaconda3/envs/youtube-downloader/lib/python3.12/site-packages/ultralytics/engine/trainer.py:238: FutureWarning: `torch.cuda.amp.GradScaler(args...)` is deprecated. Please use `torch.amp.GradScaler('cuda', args...)` instead.\n",
      "  self.scaler = amp.GradScaler(enabled=self.amp)\n",
      "\u001b[34m\u001b[1mtrain: \u001b[0mScanning /home/aquinate/Documents/DataScience/GremioPrudente/training/dat\u001b[0m\n",
      "\u001b[34m\u001b[1mtrain: \u001b[0mNew cache created: /home/aquinate/Documents/DataScience/GremioPrudente/training/datasets/football-players-detection-1/train/labels.cache\n",
      "\u001b[34m\u001b[1mval: \u001b[0mScanning /home/aquinate/Documents/DataScience/GremioPrudente/training/datas\u001b[0m\n",
      "\u001b[34m\u001b[1mval: \u001b[0mNew cache created: /home/aquinate/Documents/DataScience/GremioPrudente/training/datasets/football-players-detection-1/valid/labels.cache\n",
      "Plotting labels to runs/detect/train/labels.jpg... \n",
      "\u001b[34m\u001b[1moptimizer:\u001b[0m 'optimizer=auto' found, ignoring 'lr0=0.01' and 'momentum=0.937' and determining best 'optimizer', 'lr0' and 'momentum' automatically... \n",
      "\u001b[34m\u001b[1moptimizer:\u001b[0m AdamW(lr=0.00125, momentum=0.9) with parameter groups 97 weight(decay=0.0), 104 weight(decay=0.0005), 103 bias(decay=0.0)\n",
      "Image sizes 640 train, 640 val\n",
      "Using 0 dataloader workers\n",
      "Logging results to \u001b[1mruns/detect/train\u001b[0m\n",
      "Starting training for 10 epochs...\n",
      "Closing dataloader mosaic\n",
      "\n",
      "      Epoch    GPU_mem   box_loss   cls_loss   dfl_loss  Instances       Size\n",
      "       1/10         0G      1.048      1.095     0.8182         95        640: 1\n",
      "                 Class     Images  Instances      Box(P          R      mAP50  m"
     ]
    }
   ],
   "source": [
    "!yolo task=detect mode=train model=yolov8x.pt data={dataset.location}/data.yaml epochs=10 imgsz=640"
   ]
  },
  {
   "cell_type": "code",
   "execution_count": null,
   "id": "e49846f4-9a6b-4b94-ba52-1774d9c0eb15",
   "metadata": {},
   "outputs": [],
   "source": []
  }
 ],
 "metadata": {
  "kernelspec": {
   "display_name": "Python 3 (ipykernel)",
   "language": "python",
   "name": "python3"
  },
  "language_info": {
   "codemirror_mode": {
    "name": "ipython",
    "version": 3
   },
   "file_extension": ".py",
   "mimetype": "text/x-python",
   "name": "python",
   "nbconvert_exporter": "python",
   "pygments_lexer": "ipython3",
   "version": "3.12.5"
  }
 },
 "nbformat": 4,
 "nbformat_minor": 5
}
