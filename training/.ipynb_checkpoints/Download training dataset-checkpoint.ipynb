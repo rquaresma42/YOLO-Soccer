{
 "cells": [
  {
   "cell_type": "markdown",
   "id": "cc0add25-c635-4014-a5e2-9b6fdf019a1a",
   "metadata": {},
   "source": [
    "## Get Data"
   ]
  },
  {
   "cell_type": "code",
   "execution_count": 3,
   "id": "58861d0d-d087-4c8c-8efb-9dd6982dee34",
   "metadata": {},
   "outputs": [
    {
     "name": "stdout",
     "output_type": "stream",
     "text": [
      "Collecting ultralytics==8.0.196\n",
      "  Using cached ultralytics-8.0.196-py3-none-any.whl.metadata (31 kB)\n",
      "Requirement already satisfied: matplotlib>=3.3.0 in /home/aquinate/anaconda3/envs/youtube-downloader/lib/python3.12/site-packages (from ultralytics==8.0.196) (3.9.2)\n",
      "Requirement already satisfied: numpy>=1.22.2 in /home/aquinate/anaconda3/envs/youtube-downloader/lib/python3.12/site-packages (from ultralytics==8.0.196) (1.26.4)\n",
      "Requirement already satisfied: opencv-python>=4.6.0 in /home/aquinate/anaconda3/envs/youtube-downloader/lib/python3.12/site-packages (from ultralytics==8.0.196) (4.10.0.84)\n",
      "Requirement already satisfied: pillow>=7.1.2 in /home/aquinate/anaconda3/envs/youtube-downloader/lib/python3.12/site-packages (from ultralytics==8.0.196) (10.4.0)\n",
      "Requirement already satisfied: pyyaml>=5.3.1 in /home/aquinate/anaconda3/envs/youtube-downloader/lib/python3.12/site-packages (from ultralytics==8.0.196) (6.0.1)\n",
      "Requirement already satisfied: requests>=2.23.0 in /home/aquinate/anaconda3/envs/youtube-downloader/lib/python3.12/site-packages (from ultralytics==8.0.196) (2.32.3)\n",
      "Requirement already satisfied: scipy>=1.4.1 in /home/aquinate/anaconda3/envs/youtube-downloader/lib/python3.12/site-packages (from ultralytics==8.0.196) (1.14.1)\n",
      "Requirement already satisfied: torch>=1.8.0 in /home/aquinate/anaconda3/envs/youtube-downloader/lib/python3.12/site-packages (from ultralytics==8.0.196) (2.4.0)\n",
      "Requirement already satisfied: torchvision>=0.9.0 in /home/aquinate/anaconda3/envs/youtube-downloader/lib/python3.12/site-packages (from ultralytics==8.0.196) (0.19.0)\n",
      "Requirement already satisfied: tqdm>=4.64.0 in /home/aquinate/anaconda3/envs/youtube-downloader/lib/python3.12/site-packages (from ultralytics==8.0.196) (4.66.5)\n",
      "Requirement already satisfied: pandas>=1.1.4 in /home/aquinate/anaconda3/envs/youtube-downloader/lib/python3.12/site-packages (from ultralytics==8.0.196) (2.2.2)\n",
      "Requirement already satisfied: seaborn>=0.11.0 in /home/aquinate/anaconda3/envs/youtube-downloader/lib/python3.12/site-packages (from ultralytics==8.0.196) (0.13.2)\n",
      "Requirement already satisfied: psutil in /home/aquinate/anaconda3/envs/youtube-downloader/lib/python3.12/site-packages (from ultralytics==8.0.196) (5.9.0)\n",
      "Requirement already satisfied: py-cpuinfo in /home/aquinate/anaconda3/envs/youtube-downloader/lib/python3.12/site-packages (from ultralytics==8.0.196) (9.0.0)\n",
      "Requirement already satisfied: thop>=0.1.1 in /home/aquinate/anaconda3/envs/youtube-downloader/lib/python3.12/site-packages (from ultralytics==8.0.196) (0.1.1.post2209072238)\n",
      "Requirement already satisfied: contourpy>=1.0.1 in /home/aquinate/anaconda3/envs/youtube-downloader/lib/python3.12/site-packages (from matplotlib>=3.3.0->ultralytics==8.0.196) (1.3.0)\n",
      "Requirement already satisfied: cycler>=0.10 in /home/aquinate/anaconda3/envs/youtube-downloader/lib/python3.12/site-packages (from matplotlib>=3.3.0->ultralytics==8.0.196) (0.12.1)\n",
      "Requirement already satisfied: fonttools>=4.22.0 in /home/aquinate/anaconda3/envs/youtube-downloader/lib/python3.12/site-packages (from matplotlib>=3.3.0->ultralytics==8.0.196) (4.53.1)\n",
      "Requirement already satisfied: kiwisolver>=1.3.1 in /home/aquinate/anaconda3/envs/youtube-downloader/lib/python3.12/site-packages (from matplotlib>=3.3.0->ultralytics==8.0.196) (1.4.6)\n",
      "Requirement already satisfied: packaging>=20.0 in /home/aquinate/anaconda3/envs/youtube-downloader/lib/python3.12/site-packages (from matplotlib>=3.3.0->ultralytics==8.0.196) (24.1)\n",
      "Requirement already satisfied: pyparsing>=2.3.1 in /home/aquinate/anaconda3/envs/youtube-downloader/lib/python3.12/site-packages (from matplotlib>=3.3.0->ultralytics==8.0.196) (3.1.4)\n",
      "Requirement already satisfied: python-dateutil>=2.7 in /home/aquinate/anaconda3/envs/youtube-downloader/lib/python3.12/site-packages (from matplotlib>=3.3.0->ultralytics==8.0.196) (2.9.0.post0)\n",
      "Requirement already satisfied: pytz>=2020.1 in /home/aquinate/anaconda3/envs/youtube-downloader/lib/python3.12/site-packages (from pandas>=1.1.4->ultralytics==8.0.196) (2024.1)\n",
      "Requirement already satisfied: tzdata>=2022.7 in /home/aquinate/anaconda3/envs/youtube-downloader/lib/python3.12/site-packages (from pandas>=1.1.4->ultralytics==8.0.196) (2024.1)\n",
      "Requirement already satisfied: charset-normalizer<4,>=2 in /home/aquinate/anaconda3/envs/youtube-downloader/lib/python3.12/site-packages (from requests>=2.23.0->ultralytics==8.0.196) (3.3.2)\n",
      "Requirement already satisfied: idna<4,>=2.5 in /home/aquinate/anaconda3/envs/youtube-downloader/lib/python3.12/site-packages (from requests>=2.23.0->ultralytics==8.0.196) (3.7)\n",
      "Requirement already satisfied: urllib3<3,>=1.21.1 in /home/aquinate/anaconda3/envs/youtube-downloader/lib/python3.12/site-packages (from requests>=2.23.0->ultralytics==8.0.196) (2.2.2)\n",
      "Requirement already satisfied: certifi>=2017.4.17 in /home/aquinate/anaconda3/envs/youtube-downloader/lib/python3.12/site-packages (from requests>=2.23.0->ultralytics==8.0.196) (2024.7.4)\n",
      "Requirement already satisfied: filelock in /home/aquinate/anaconda3/envs/youtube-downloader/lib/python3.12/site-packages (from torch>=1.8.0->ultralytics==8.0.196) (3.15.4)\n",
      "Requirement already satisfied: typing-extensions>=4.8.0 in /home/aquinate/anaconda3/envs/youtube-downloader/lib/python3.12/site-packages (from torch>=1.8.0->ultralytics==8.0.196) (4.11.0)\n",
      "Requirement already satisfied: sympy in /home/aquinate/anaconda3/envs/youtube-downloader/lib/python3.12/site-packages (from torch>=1.8.0->ultralytics==8.0.196) (1.13.2)\n",
      "Requirement already satisfied: networkx in /home/aquinate/anaconda3/envs/youtube-downloader/lib/python3.12/site-packages (from torch>=1.8.0->ultralytics==8.0.196) (3.3)\n",
      "Requirement already satisfied: jinja2 in /home/aquinate/anaconda3/envs/youtube-downloader/lib/python3.12/site-packages (from torch>=1.8.0->ultralytics==8.0.196) (3.1.4)\n",
      "Requirement already satisfied: fsspec in /home/aquinate/anaconda3/envs/youtube-downloader/lib/python3.12/site-packages (from torch>=1.8.0->ultralytics==8.0.196) (2024.6.1)\n",
      "Requirement already satisfied: setuptools in /home/aquinate/anaconda3/envs/youtube-downloader/lib/python3.12/site-packages (from torch>=1.8.0->ultralytics==8.0.196) (72.1.0)\n",
      "Requirement already satisfied: nvidia-cuda-nvrtc-cu12==12.1.105 in /home/aquinate/anaconda3/envs/youtube-downloader/lib/python3.12/site-packages (from torch>=1.8.0->ultralytics==8.0.196) (12.1.105)\n",
      "Requirement already satisfied: nvidia-cuda-runtime-cu12==12.1.105 in /home/aquinate/anaconda3/envs/youtube-downloader/lib/python3.12/site-packages (from torch>=1.8.0->ultralytics==8.0.196) (12.1.105)\n",
      "Requirement already satisfied: nvidia-cuda-cupti-cu12==12.1.105 in /home/aquinate/anaconda3/envs/youtube-downloader/lib/python3.12/site-packages (from torch>=1.8.0->ultralytics==8.0.196) (12.1.105)\n",
      "Requirement already satisfied: nvidia-cudnn-cu12==9.1.0.70 in /home/aquinate/anaconda3/envs/youtube-downloader/lib/python3.12/site-packages (from torch>=1.8.0->ultralytics==8.0.196) (9.1.0.70)\n",
      "Requirement already satisfied: nvidia-cublas-cu12==12.1.3.1 in /home/aquinate/anaconda3/envs/youtube-downloader/lib/python3.12/site-packages (from torch>=1.8.0->ultralytics==8.0.196) (12.1.3.1)\n",
      "Requirement already satisfied: nvidia-cufft-cu12==11.0.2.54 in /home/aquinate/anaconda3/envs/youtube-downloader/lib/python3.12/site-packages (from torch>=1.8.0->ultralytics==8.0.196) (11.0.2.54)\n",
      "Requirement already satisfied: nvidia-curand-cu12==10.3.2.106 in /home/aquinate/anaconda3/envs/youtube-downloader/lib/python3.12/site-packages (from torch>=1.8.0->ultralytics==8.0.196) (10.3.2.106)\n",
      "Requirement already satisfied: nvidia-cusolver-cu12==11.4.5.107 in /home/aquinate/anaconda3/envs/youtube-downloader/lib/python3.12/site-packages (from torch>=1.8.0->ultralytics==8.0.196) (11.4.5.107)\n",
      "Requirement already satisfied: nvidia-cusparse-cu12==12.1.0.106 in /home/aquinate/anaconda3/envs/youtube-downloader/lib/python3.12/site-packages (from torch>=1.8.0->ultralytics==8.0.196) (12.1.0.106)\n",
      "Requirement already satisfied: nvidia-nccl-cu12==2.20.5 in /home/aquinate/anaconda3/envs/youtube-downloader/lib/python3.12/site-packages (from torch>=1.8.0->ultralytics==8.0.196) (2.20.5)\n",
      "Requirement already satisfied: nvidia-nvtx-cu12==12.1.105 in /home/aquinate/anaconda3/envs/youtube-downloader/lib/python3.12/site-packages (from torch>=1.8.0->ultralytics==8.0.196) (12.1.105)\n",
      "Requirement already satisfied: triton==3.0.0 in /home/aquinate/anaconda3/envs/youtube-downloader/lib/python3.12/site-packages (from torch>=1.8.0->ultralytics==8.0.196) (3.0.0)\n",
      "Requirement already satisfied: nvidia-nvjitlink-cu12 in /home/aquinate/anaconda3/envs/youtube-downloader/lib/python3.12/site-packages (from nvidia-cusolver-cu12==11.4.5.107->torch>=1.8.0->ultralytics==8.0.196) (12.6.68)\n",
      "Requirement already satisfied: six>=1.5 in /home/aquinate/anaconda3/envs/youtube-downloader/lib/python3.12/site-packages (from python-dateutil>=2.7->matplotlib>=3.3.0->ultralytics==8.0.196) (1.16.0)\n",
      "Requirement already satisfied: MarkupSafe>=2.0 in /home/aquinate/anaconda3/envs/youtube-downloader/lib/python3.12/site-packages (from jinja2->torch>=1.8.0->ultralytics==8.0.196) (2.1.3)\n",
      "Requirement already satisfied: mpmath<1.4,>=1.1.0 in /home/aquinate/anaconda3/envs/youtube-downloader/lib/python3.12/site-packages (from sympy->torch>=1.8.0->ultralytics==8.0.196) (1.3.0)\n",
      "Using cached ultralytics-8.0.196-py3-none-any.whl (631 kB)\n",
      "Installing collected packages: ultralytics\n",
      "Successfully installed ultralytics-8.0.196\n",
      "Note: you may need to restart the kernel to use updated packages.\n"
     ]
    }
   ],
   "source": [
    "pip install ultralytics==8.0.196"
   ]
  },
  {
   "cell_type": "code",
   "execution_count": 9,
   "id": "c286c514-a509-4c0f-8886-a2d8de3a5223",
   "metadata": {},
   "outputs": [
    {
     "name": "stdout",
     "output_type": "stream",
     "text": [
      "loading Roboflow workspace...\n",
      "loading Roboflow project...\n"
     ]
    }
   ],
   "source": [
    "from roboflow import Roboflow\n",
    "rf = Roboflow(api_key=\"Z4C8uDsWoaB3f6gOLtsk\")\n",
    "project = rf.workspace(\"roboflow-jvuqo\").project(\"football-players-detection-3zvbc\")\n",
    "version = project.version(1)\n",
    "dataset = version.download(\"yolov8\")"
   ]
  },
  {
   "cell_type": "code",
   "execution_count": 10,
   "id": "76233030-083d-42ee-bd64-b722d776d3a2",
   "metadata": {},
   "outputs": [
    {
     "data": {
      "text/plain": [
       "'/home/aquinate/Documents/DataScience/GremioPrudente/training/football-players-detection-1'"
      ]
     },
     "execution_count": 10,
     "metadata": {},
     "output_type": "execute_result"
    }
   ],
   "source": [
    "dataset.location"
   ]
  },
  {
   "cell_type": "markdown",
   "id": "5fa18d80-b870-4a9b-bfa8-d19170868ad5",
   "metadata": {},
   "source": [
    "## Train model"
   ]
  },
  {
   "cell_type": "code",
   "execution_count": 11,
   "id": "46698221-d45a-428b-af55-1761403337f2",
   "metadata": {},
   "outputs": [
    {
     "name": "stdout",
     "output_type": "stream",
     "text": [
      "/home/aquinate/anaconda3/envs/youtube-downloader/lib/python3.12/site-packages/ultralytics/nn/tasks.py:567: FutureWarning: You are using `torch.load` with `weights_only=False` (the current default value), which uses the default pickle module implicitly. It is possible to construct malicious pickle data which will execute arbitrary code during unpickling (See https://github.com/pytorch/pytorch/blob/main/SECURITY.md#untrusted-models for more details). In a future release, the default value for `weights_only` will be flipped to `True`. This limits the functions that could be executed during unpickling. Arbitrary objects will no longer be allowed to be loaded via this mode unless they are explicitly allowlisted by the user via `torch.serialization.add_safe_globals`. We recommend you start setting `weights_only=True` for any use case where you don't have full control of the loaded file. Please open an issue on GitHub for any issues related to this experimental feature.\n",
      "  return torch.load(file, map_location='cpu'), file  # load\n",
      "New https://pypi.org/project/ultralytics/8.2.87 available 😃 Update with 'pip install -U ultralytics'\n",
      "Ultralytics YOLOv8.0.196 🚀 Python-3.12.4 torch-2.4.0+cu121 CPU (AMD Ryzen 5 5600G with Radeon Graphics)\n",
      "\u001b[34m\u001b[1mengine/trainer: \u001b[0mtask=detect, mode=train, model=yolov8x.pt, data=/home/aquinate/Documents/DataScience/GremioPrudente/training/football-players-detection-1/data.yaml, epochs=100, patience=50, batch=16, imgsz=640, save=True, save_period=-1, cache=False, device=None, workers=8, project=None, name=None, exist_ok=False, pretrained=True, optimizer=auto, verbose=True, seed=0, deterministic=True, single_cls=False, rect=False, cos_lr=False, close_mosaic=10, resume=False, amp=True, fraction=1.0, profile=False, freeze=None, overlap_mask=True, mask_ratio=4, dropout=0.0, val=True, split=val, save_json=False, save_hybrid=False, conf=None, iou=0.7, max_det=300, half=False, dnn=False, plots=True, source=None, show=False, save_txt=False, save_conf=False, save_crop=False, show_labels=True, show_conf=True, vid_stride=1, stream_buffer=False, line_width=None, visualize=False, augment=False, agnostic_nms=False, classes=None, retina_masks=False, boxes=True, format=torchscript, keras=False, optimize=False, int8=False, dynamic=False, simplify=False, opset=None, workspace=4, nms=False, lr0=0.01, lrf=0.01, momentum=0.937, weight_decay=0.0005, warmup_epochs=3.0, warmup_momentum=0.8, warmup_bias_lr=0.1, box=7.5, cls=0.5, dfl=1.5, pose=12.0, kobj=1.0, label_smoothing=0.0, nbs=64, hsv_h=0.015, hsv_s=0.7, hsv_v=0.4, degrees=0.0, translate=0.1, scale=0.5, shear=0.0, perspective=0.0, flipud=0.0, fliplr=0.5, mosaic=1.0, mixup=0.0, copy_paste=0.0, cfg=None, tracker=botsort.yaml, save_dir=runs/detect/train2\n",
      "Traceback (most recent call last):\n",
      "  File \"/home/aquinate/anaconda3/envs/youtube-downloader/lib/python3.12/site-packages/ultralytics/engine/trainer.py\", line 118, in __init__\n",
      "    self.data = check_det_dataset(self.args.data)\n",
      "                ^^^^^^^^^^^^^^^^^^^^^^^^^^^^^^^^^\n",
      "  File \"/home/aquinate/anaconda3/envs/youtube-downloader/lib/python3.12/site-packages/ultralytics/data/utils.py\", line 301, in check_det_dataset\n",
      "    raise FileNotFoundError(m)\n",
      "FileNotFoundError: \n",
      "Dataset '/home/aquinate/Documents/DataScience/GremioPrudente/training/football-players-detection-1/data.yaml' images not found ⚠️, missing path '/home/aquinate/Documents/DataScience/GremioPrudente/training/football-players-detection-1/football-players-detection-1/valid/images'\n",
      "Note dataset download directory is '/home/aquinate/Documents/DataScience/GremioPrudente/training/datasets'. You can update this in '/home/aquinate/.config/Ultralytics/settings.yaml'\n",
      "\n",
      "The above exception was the direct cause of the following exception:\n",
      "\n",
      "Traceback (most recent call last):\n",
      "  File \"/home/aquinate/anaconda3/envs/youtube-downloader/bin/yolo\", line 8, in <module>\n",
      "    sys.exit(entrypoint())\n",
      "             ^^^^^^^^^^^^\n",
      "  File \"/home/aquinate/anaconda3/envs/youtube-downloader/lib/python3.12/site-packages/ultralytics/cfg/__init__.py\", line 445, in entrypoint\n",
      "    getattr(model, mode)(**overrides)  # default args from model\n",
      "    ^^^^^^^^^^^^^^^^^^^^^^^^^^^^^^^^^\n",
      "  File \"/home/aquinate/anaconda3/envs/youtube-downloader/lib/python3.12/site-packages/ultralytics/engine/model.py\", line 336, in train\n",
      "    self.trainer = (trainer or self._smart_load('trainer'))(overrides=args, _callbacks=self.callbacks)\n",
      "                   ^^^^^^^^^^^^^^^^^^^^^^^^^^^^^^^^^^^^^^^^^^^^^^^^^^^^^^^^^^^^^^^^^^^^^^^^^^^^^^^^^^^\n",
      "  File \"/home/aquinate/anaconda3/envs/youtube-downloader/lib/python3.12/site-packages/ultralytics/engine/trainer.py\", line 122, in __init__\n",
      "    raise RuntimeError(emojis(f\"Dataset '{clean_url(self.args.data)}' error ❌ {e}\")) from e\n",
      "RuntimeError: Dataset '/home/aquinate/Documents/DataScience/GremioPrudente/training/football-players-detection-1/data.yaml' error ❌ \n",
      "Dataset '/home/aquinate/Documents/DataScience/GremioPrudente/training/football-players-detection-1/data.yaml' images not found ⚠️, missing path '/home/aquinate/Documents/DataScience/GremioPrudente/training/football-players-detection-1/football-players-detection-1/valid/images'\n",
      "Note dataset download directory is '/home/aquinate/Documents/DataScience/GremioPrudente/training/datasets'. You can update this in '/home/aquinate/.config/Ultralytics/settings.yaml'\n"
     ]
    }
   ],
   "source": [
    "!yolo task=detect mode=train model=yolov8x.pt data={dataset.location}/data.yaml epochs=100 imgsz=640"
   ]
  },
  {
   "cell_type": "code",
   "execution_count": null,
   "id": "e49846f4-9a6b-4b94-ba52-1774d9c0eb15",
   "metadata": {},
   "outputs": [],
   "source": []
  }
 ],
 "metadata": {
  "kernelspec": {
   "display_name": "Python 3 (ipykernel)",
   "language": "python",
   "name": "python3"
  },
  "language_info": {
   "codemirror_mode": {
    "name": "ipython",
    "version": 3
   },
   "file_extension": ".py",
   "mimetype": "text/x-python",
   "name": "python",
   "nbconvert_exporter": "python",
   "pygments_lexer": "ipython3",
   "version": "3.12.4"
  }
 },
 "nbformat": 4,
 "nbformat_minor": 5
}
